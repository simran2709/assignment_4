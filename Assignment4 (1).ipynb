{
  "nbformat": 4,
  "nbformat_minor": 0,
  "metadata": {
    "colab": {
      "provenance": []
    },
    "kernelspec": {
      "name": "python3",
      "display_name": "Python 3"
    },
    "language_info": {
      "name": "python"
    }
  },
  "cells": [
    {
      "cell_type": "markdown",
      "source": [
        "# ASSIGNMENT(OOPS)\n",
        "\n",
        "#Theory Question\n",
        "\n",
        "Ques 1.What is Object-Oriented Programming (OOP)?\n",
        "- OOP is a way of writing programs by creating objects. These objects represent real-world things like a car, person, or animal.\n",
        "OOP makes your code reusable, easy to manage, and organized.\n",
        "\n",
        "Ques 2.What is a class in OOP?\n",
        "- A class is like a design or blueprint for creating objects. It defines what an object should have (attributes) and what it can do (methods).\n",
        "Example: A Car class may have color and speed, and methods like drive().\n",
        "\n",
        "Ques 3.What is an object in OOP\n",
        "- An object is a real thing made using a class. It stores actual data and performs actions.\n",
        "If Car is the class, then my_car = Car() is an object.\n",
        "\n",
        "Ques 4.What is the difference between abstraction and encapsulation\n",
        "- Abstraction: Shows only important things, hides the details. Like you drive a car without knowing how the engine works.\n",
        "-Encapsulation: Hides the data inside a class using private variables, and only allows access through methods.\n",
        "\n",
        "Ques 5.What are dunder methods in Python\n",
        "- Dunder methods (double underscore) start and end with _, like __init, __str_, etc.\n",
        "They are used to give special behavior to objects, like how they are created or shown.\n",
        "\n",
        "Ques 6.Explain the concept of inheritance in OOP\n",
        "- Inheritance means a class can take features from another class.\n",
        "For example, if Animal has a method sound(), a Dog class can inherit it.\n",
        "\n",
        "Ques 7.Explain the concept of inheritance in OOP\n",
        "- Polymorphism means one function can behave differently depending on the object.\n",
        "Example: A fly() method can act differently for a bird and an airplane.\n",
        "\n",
        "Ques 8. How is encapsulation achieved in Python\n",
        "- Encapsulation is done by making variables private (adding __ before the name) and using methods to access them.\n",
        "- This protects the data\n",
        "\n",
        "Ques 9. What is a constructor in Python?\n",
        "- A constructor is a special method called _init_(). It runs automatically when an object is created and sets the initial values.\n",
        "\n",
        "Ques 10.What are class and static methods in Python?\n",
        "- Class method (@classmethod): Works with class-level data and takes cls as the first argument.\n",
        "-Static method (@staticmethod): Does not use class or object data; it’s just a normal function inside a class.\n",
        "\n",
        "Ques 11.What is method overloading in Python\n",
        "- Python does not support real method overloading. But you can define a method with default values to act like overloading\n",
        "\n",
        "Ques 12.What is method overriding in OOP\n",
        "- If a child class changes a method from the parent class, it is called overriding.\n",
        "- This helps the child class behave differently.\n",
        "\n",
        "Ques 13.What is a property decorator in Python\n",
        "- The @property decorator allows a method to be used like an attribute. It is used to control access to private variables.\n",
        "\n",
        "Ques 14.Why is polymorphism important in OOP\n",
        "- It lets you use the same method name for different classes. This makes code simple and flexible.\n",
        "\n",
        "Ques 15.What is an abstract class in Python\n",
        "- An abstract class cannot be used directly. It has abstract methods that child classes must complete.\n",
        "- Used when you want to force some rules on child classes.\n",
        "\n",
        "Ques 16.What are the advantages of OOP\n",
        "- Code is reusable\n",
        "-Code is clean and organized\n",
        "-Easy to debug and manage\n",
        "-Hides unnecessary details\n",
        "\n",
        "Ques 17.What is the difference between a class variable and an instance variable\n",
        "- Class variable: Shared by all objects\n",
        "-Instance variable: Unique for each object\n",
        "\n",
        "Ques 18. What is multiple inheritance in Python\n",
        "- When a class inherits from more than one class.\n",
        "Example: class C(A, B) inherits from both A and B\n",
        "\n",
        "Ques 19.Explain the purpose of ‘’__str__’ and ‘__repr__’ ‘ methods in Python\n",
        "- _str_: Used to show a friendly string when we print an object.\n",
        "-_repr_: Used for debugging, shows a detailed string for developers.\n",
        "\n",
        "Ques 20.What is the significance of the ‘super()’ function in Python\n",
        "-\n",
        "super() lets the child class call a method from the parent class. Useful for reusing code from the parent.\n",
        "\n",
        "Ques 21.What is the significance of the __del__ method in Python\n",
        "- _del_ is called when an object is about to be deleted. It’s used to clean up resources like files or memory\n",
        "\n",
        "Ques 22.What is the difference between @staticmethod and @classmethod in Python\n",
        "- @staticmethod: Normal function inside class, no access to class or object\n",
        "-@classmethod: Has access to the class (takes cls as the first argument)\n",
        "\n",
        "Ques 23.How does polymorphism work in Python with inheritance\n",
        "- A method in a parent class can be changed in child classes. You can call the same method name and get different behavior.\n",
        "\n",
        "Ques 24.What is method chaining in Python OOP\n",
        "- Calling many methods one after another using the same object.\n",
        "Each method returns self.\n",
        "\n",
        "Ques 25.What is the purpose of the __call__ method in Python\n",
        "- _call_ makes an object act like a function when used with ().\n"
      ],
      "metadata": {
        "id": "-daxYEB6B4LA"
      }
    },
    {
      "cell_type": "markdown",
      "source": [
        "#Practical Question"
      ],
      "metadata": {
        "id": "DzPfDikcNAFu"
      }
    },
    {
      "cell_type": "code",
      "source": [
        "#Ques 1.Create a parent class Animal with a method speak() that prints a generic message. Create a child class Dog\n",
        "#that overrides the speak() method to print \"Bark!\".\n",
        "class Animal:\n",
        "    def speak(self):\n",
        "        print(\"Animal sound\")\n",
        "\n",
        "class Dog(Animal):\n",
        "    def speak(self):\n",
        "        print(\"Bark\")\n",
        "\n",
        "d = Dog()\n",
        "d.speak()\n"
      ],
      "metadata": {
        "colab": {
          "base_uri": "https://localhost:8080/"
        },
        "id": "rwsfZ59fNED0",
        "outputId": "08b36c76-aba3-4e17-9532-5a5550670d8f"
      },
      "execution_count": 1,
      "outputs": [
        {
          "output_type": "stream",
          "name": "stdout",
          "text": [
            "Bark\n"
          ]
        }
      ]
    },
    {
      "cell_type": "code",
      "source": [
        "#Ques 2.Write a program to create an abstract class Shape with a method area(). Derive classes Circle and Rectangle\n",
        "#from it and implement the area() method in both.\n",
        "class Circle:\n",
        "    def area(self):\n",
        "        print(\"Circle area\")\n",
        "\n",
        "class Rectangle:\n",
        "    def area(self):\n",
        "        print(\"Rectangle area\")\n",
        "\n",
        "c = Circle()\n",
        "r = Rectangle()\n",
        "c.area()\n",
        "r.area()\n"
      ],
      "metadata": {
        "colab": {
          "base_uri": "https://localhost:8080/"
        },
        "id": "wcZI9JsaNIIr",
        "outputId": "a27485f9-e57f-4bb9-f374-c427ec7748aa"
      },
      "execution_count": 2,
      "outputs": [
        {
          "output_type": "stream",
          "name": "stdout",
          "text": [
            "Circle area\n",
            "Rectangle area\n"
          ]
        }
      ]
    },
    {
      "cell_type": "code",
      "source": [
        "#Ques 3.Implement a multi-level inheritance scenario where a class Vehicle has an attribute type. Derive a class Car\n",
        "#and further derive a class ElectricCar that adds a battery attribute.\n",
        "class Vehicle:\n",
        "    def show(self):\n",
        "        print(\"This is a vehicle\")\n",
        "\n",
        "class Car(Vehicle):\n",
        "    def show_car(self):\n",
        "        print(\"This is a car\")\n",
        "\n",
        "class ElectricCar(Car):\n",
        "    def show_electric(self):\n",
        "        print(\"This is an electric car\")\n",
        "\n",
        "e = ElectricCar()\n",
        "e.show()\n",
        "e.show_car()\n",
        "e.show_electric()"
      ],
      "metadata": {
        "colab": {
          "base_uri": "https://localhost:8080/"
        },
        "id": "4wrmrYz8NH49",
        "outputId": "ec47e99f-d5f1-495a-db31-b05d55e6f94e"
      },
      "execution_count": 3,
      "outputs": [
        {
          "output_type": "stream",
          "name": "stdout",
          "text": [
            "This is a vehicle\n",
            "This is a car\n",
            "This is an electric car\n"
          ]
        }
      ]
    },
    {
      "cell_type": "code",
      "source": [
        "#Ques 4.Demonstrate polymorphism by creating a base class Bird with a method fly(). Create two derived classes\n",
        "#Sparrow and Penguin that override the fly() method.\n",
        "class Bird:\n",
        "    def fly(self):\n",
        "        print(\"Bird can fly\")\n",
        "\n",
        "class Sparrow(Bird):\n",
        "    def fly(self):\n",
        "        print(\"Sparrow flies high\")\n",
        "\n",
        "class Penguin(Bird):\n",
        "    def fly(self):\n",
        "        print(\"Penguins can't fly\")\n",
        "\n",
        "s = Sparrow()\n",
        "p = Penguin()\n",
        "s.fly()\n",
        "p.fly()\n"
      ],
      "metadata": {
        "colab": {
          "base_uri": "https://localhost:8080/"
        },
        "id": "2fcT4aUDNHu0",
        "outputId": "42691572-bb63-4667-f74b-b1a02a3bb2dc"
      },
      "execution_count": 5,
      "outputs": [
        {
          "output_type": "stream",
          "name": "stdout",
          "text": [
            "Sparrow flies high\n",
            "Penguins can't fly\n"
          ]
        }
      ]
    },
    {
      "cell_type": "code",
      "source": [
        "#Ques 5.Write a program to demonstrate encapsulation by creating a class BankAccount with private attributes\n",
        "#balance and methods to deposit, withdraw, and check balance.\n",
        "class BankAccount:\n",
        "    def __init__(self):\n",
        "        self.__balance = 0\n",
        "\n",
        "    def deposit(self, money):\n",
        "        self.__balance += money\n",
        "\n",
        "    def get_balance(self):\n",
        "        print(\"Balance:\", self.__balance)\n",
        "\n",
        "acc = BankAccount()\n",
        "acc.deposit(100)\n",
        "acc.get_balance()\n"
      ],
      "metadata": {
        "colab": {
          "base_uri": "https://localhost:8080/"
        },
        "id": "VfxqrI3FNHlB",
        "outputId": "08df4a17-ac3e-4947-e22e-9cce330192bd"
      },
      "execution_count": 6,
      "outputs": [
        {
          "output_type": "stream",
          "name": "stdout",
          "text": [
            "Balance: 100\n"
          ]
        }
      ]
    },
    {
      "cell_type": "code",
      "source": [
        "#Ques 6.Demonstrate runtime polymorphism using a method play() in a base class Instrument. Derive classes Guitar\n",
        "#and Piano that implement their own version of play().\n",
        "class Instrument:\n",
        "    def play(self):\n",
        "        print(\"Play instrument\")\n",
        "\n",
        "class Guitar(Instrument):\n",
        "    def play(self):\n",
        "        print(\"Play guitar\")\n",
        "\n",
        "class Piano(Instrument):\n",
        "    def play(self):\n",
        "        print(\"Play piano\")\n",
        "\n",
        "g = Guitar()\n",
        "p = Piano()\n",
        "g.play()\n",
        "p.play()\n"
      ],
      "metadata": {
        "colab": {
          "base_uri": "https://localhost:8080/"
        },
        "id": "8QwFHAfcNHaS",
        "outputId": "285a1a21-3c5e-4fa5-dfff-c769394dcab7"
      },
      "execution_count": 7,
      "outputs": [
        {
          "output_type": "stream",
          "name": "stdout",
          "text": [
            "Play guitar\n",
            "Play piano\n"
          ]
        }
      ]
    },
    {
      "cell_type": "code",
      "source": [
        "#Ques 7.Create a class MathOperations with a class method add_numbers() to add two numbers and a static\n",
        "#method subtract_numbers() to subtract two numbers\n",
        "class Math:\n",
        "    @classmethod\n",
        "    def add(cls, a, b):\n",
        "        print(a + b)\n",
        "\n",
        "    @staticmethod\n",
        "    def sub(a, b):\n",
        "        print(a - b)\n",
        "\n",
        "Math.add(3, 2)\n",
        "Math.sub(5, 1)\n"
      ],
      "metadata": {
        "colab": {
          "base_uri": "https://localhost:8080/"
        },
        "id": "fuDnllphNHRG",
        "outputId": "5d02f250-d873-4c0c-afd1-51d39b90a30c"
      },
      "execution_count": 8,
      "outputs": [
        {
          "output_type": "stream",
          "name": "stdout",
          "text": [
            "5\n",
            "4\n"
          ]
        }
      ]
    },
    {
      "cell_type": "code",
      "source": [
        "#Ques 8.Implement a class Person with a class method to count the total number of persons created.\n",
        "class Person:\n",
        "    count = 0\n",
        "\n",
        "    def __init__(self):\n",
        "        Person.count += 1\n",
        "\n",
        "    @classmethod\n",
        "    def show_count(cls):\n",
        "        print(\"People:\", cls.count)\n",
        "\n",
        "p1 = Person()\n",
        "p2 = Person()\n",
        "Person.show_count()\n"
      ],
      "metadata": {
        "colab": {
          "base_uri": "https://localhost:8080/"
        },
        "id": "7ivSzug_NHHS",
        "outputId": "94efe6da-4258-4fdf-c7a5-21f55d0bdc54"
      },
      "execution_count": 9,
      "outputs": [
        {
          "output_type": "stream",
          "name": "stdout",
          "text": [
            "People: 2\n"
          ]
        }
      ]
    },
    {
      "cell_type": "code",
      "source": [
        "#Ques 9. Write a class Fraction with attributes numerator and denominator. Override the str method to display the\n",
        "#fraction as \"numerator/denominator\".\n",
        "class Fraction:\n",
        "    def __init__(self, top, bottom):\n",
        "        self.top = top\n",
        "        self.bottom = bottom\n",
        "\n",
        "    def __str__(self):\n",
        "        return f\"{self.top}/{self.bottom}\"\n",
        "\n",
        "f = Fraction(1, 2)\n",
        "print(f)\n"
      ],
      "metadata": {
        "colab": {
          "base_uri": "https://localhost:8080/"
        },
        "id": "aNaasaltNG-a",
        "outputId": "cb36df0f-1571-47c9-8321-018d68cba3b0"
      },
      "execution_count": 10,
      "outputs": [
        {
          "output_type": "stream",
          "name": "stdout",
          "text": [
            "1/2\n"
          ]
        }
      ]
    },
    {
      "cell_type": "code",
      "source": [
        "#Ques 10.Demonstrate operator overloading by creating a class Vector and overriding the add method to add two\n",
        "#vectors.\n",
        "class Vector:\n",
        "    def __init__(self, x):\n",
        "        self.x = x\n",
        "\n",
        "    def __add__(self, other):\n",
        "        return Vector(self.x + other.x)\n",
        "\n",
        "    def __str__(self):\n",
        "        return str(self.x)\n",
        "\n",
        "v1 = Vector(3)\n",
        "v2 = Vector(4)\n",
        "v3 = v1 + v2\n",
        "print(v3)\n"
      ],
      "metadata": {
        "colab": {
          "base_uri": "https://localhost:8080/"
        },
        "id": "4B93Kb57NG1P",
        "outputId": "43c9ad22-4aee-4296-9fb8-ec7285c910cc"
      },
      "execution_count": 11,
      "outputs": [
        {
          "output_type": "stream",
          "name": "stdout",
          "text": [
            "7\n"
          ]
        }
      ]
    },
    {
      "cell_type": "code",
      "source": [
        "#Ques 11.Create a class Person with attributes name and age. Add a method greet() that prints \"Hello, my name is\n",
        "#{name} and I am {age} years old.\"\n",
        "class Person:\n",
        "    def __init__(self, name, age):\n",
        "        self.name = name\n",
        "        self.age = age\n",
        "\n",
        "    def greet(self):\n",
        "        print(\"Hi,\", self.name, \"-\", self.age)\n",
        "\n",
        "p = Person(\"Aman\", 18)\n",
        "p.greet()\n"
      ],
      "metadata": {
        "colab": {
          "base_uri": "https://localhost:8080/"
        },
        "id": "muXC6Gd1NGsU",
        "outputId": "92359224-24f3-425e-99be-1a094b1c3513"
      },
      "execution_count": 12,
      "outputs": [
        {
          "output_type": "stream",
          "name": "stdout",
          "text": [
            "Hi, Aman - 18\n"
          ]
        }
      ]
    },
    {
      "cell_type": "code",
      "source": [
        "#Ques 12.Implement a class Student with attributes name and grades. Create a method average_grade() to compute\n",
        "#the average of the grades.\n",
        "class Student:\n",
        "    def __init__(self, marks):\n",
        "        self.marks = marks\n",
        "\n",
        "    def average(self):\n",
        "        print(sum(self.marks) / len(self.marks))\n",
        "\n",
        "s = Student([80, 90, 100])\n",
        "s.average()\n"
      ],
      "metadata": {
        "colab": {
          "base_uri": "https://localhost:8080/"
        },
        "id": "VUObZkouNGjb",
        "outputId": "5f124d45-611c-45fc-c068-462100ab6d15"
      },
      "execution_count": 13,
      "outputs": [
        {
          "output_type": "stream",
          "name": "stdout",
          "text": [
            "90.0\n"
          ]
        }
      ]
    },
    {
      "cell_type": "code",
      "source": [
        "#Ques 13.Create a class Rectangle with methods set_dimensions() to set the dimensions and area() to calculate the\n",
        "#area.\n",
        "class Rectangle:\n",
        "    def set(self, l, w):\n",
        "        self.l = l\n",
        "        self.w = w\n",
        "\n",
        "    def area(self):\n",
        "        print(self.l * self.w)\n",
        "\n",
        "r = Rectangle()\n",
        "r.set(4, 5)\n",
        "r.area()\n"
      ],
      "metadata": {
        "colab": {
          "base_uri": "https://localhost:8080/"
        },
        "id": "j5qSBk_wNGYs",
        "outputId": "90237929-5aa1-420d-bc58-5c8ae66354d1"
      },
      "execution_count": 14,
      "outputs": [
        {
          "output_type": "stream",
          "name": "stdout",
          "text": [
            "20\n"
          ]
        }
      ]
    },
    {
      "cell_type": "code",
      "source": [
        "#Ques 14.Create a class Employee with a method calculate_salary() that computes the salary based on hours worked\n",
        "#and hourly rate. Create a derived class Manager that adds a bonus to the salary.\n",
        "class Employee:\n",
        "    def salary(self, hours, rate):\n",
        "        return hours * rate\n",
        "\n",
        "class Manager(Employee):\n",
        "    def salary(self, hours, rate, bonus):\n",
        "        return hours * rate + bonus\n",
        "\n",
        "m = Manager()\n",
        "print(m.salary(10, 100, 200))\n"
      ],
      "metadata": {
        "colab": {
          "base_uri": "https://localhost:8080/"
        },
        "id": "Qgrwfwo0NGOC",
        "outputId": "b8ca347f-7210-428c-9aa0-f5fd7b58a96f"
      },
      "execution_count": 15,
      "outputs": [
        {
          "output_type": "stream",
          "name": "stdout",
          "text": [
            "1200\n"
          ]
        }
      ]
    },
    {
      "cell_type": "code",
      "source": [
        "#Ques 15.Create a class Product with attributes name, price, and quantity. Implement a method total_price() that\n",
        "#calculates the total price of the product.\n",
        "class Product:\n",
        "    def __init__(self, p, q):\n",
        "        self.p = p\n",
        "        self.q = q\n",
        "\n",
        "    def total(self):\n",
        "        print(self.p * self.q)\n",
        "\n",
        "x = Product(10, 5)\n",
        "x.total()\n"
      ],
      "metadata": {
        "colab": {
          "base_uri": "https://localhost:8080/"
        },
        "id": "xIpisXiZNGCv",
        "outputId": "5d204c93-41f5-4fa4-a45d-59a2b71becbd"
      },
      "execution_count": 16,
      "outputs": [
        {
          "output_type": "stream",
          "name": "stdout",
          "text": [
            "50\n"
          ]
        }
      ]
    },
    {
      "cell_type": "code",
      "source": [
        "#Ques 16.Create a class Animal with an abstract method sound(). Create two derived classes Cow and Sheep that\n",
        "#implement the sound() method.\n",
        "class Cow:\n",
        "    def sound(self):\n",
        "        print(\"Moo\")\n",
        "\n",
        "class Sheep:\n",
        "    def sound(self):\n",
        "        print(\"Baa\")\n",
        "\n",
        "Cow().sound()\n",
        "Sheep().sound()\n"
      ],
      "metadata": {
        "colab": {
          "base_uri": "https://localhost:8080/"
        },
        "id": "nydLtm9cNF4N",
        "outputId": "8a3ab672-db44-4248-ea67-18bc5e470b4d"
      },
      "execution_count": 17,
      "outputs": [
        {
          "output_type": "stream",
          "name": "stdout",
          "text": [
            "Moo\n",
            "Baa\n"
          ]
        }
      ]
    },
    {
      "cell_type": "code",
      "source": [
        "#Ques 17.Create a class Book with attributes title, author, and year_published. Add a method get_book_info() that\n",
        "#returns a formatted string with the book's details.\n",
        "class Book:\n",
        "    def __init__(self, t, a, y):\n",
        "        self.t = t\n",
        "        self.a = a\n",
        "        self.y = y\n",
        "\n",
        "    def info(self):\n",
        "        print(self.t, self.a, self.y)\n",
        "\n",
        "b = Book(\"Harry Potter\", \"JK\", 2001)\n",
        "b.info()\n"
      ],
      "metadata": {
        "colab": {
          "base_uri": "https://localhost:8080/"
        },
        "id": "dV3epXAzNFte",
        "outputId": "e8f00e84-700b-49e2-ad4f-d7ade99864ca"
      },
      "execution_count": 18,
      "outputs": [
        {
          "output_type": "stream",
          "name": "stdout",
          "text": [
            "Harry Potter JK 2001\n"
          ]
        }
      ]
    },
    {
      "cell_type": "code",
      "source": [
        "#Ques 18.Create a class House with attributes address and price. Create a derived class Mansion that adds an\n",
        "#attribute number_of_rooms.\n",
        "class House:\n",
        "    def __init__(self, address):\n",
        "        self.address = address\n",
        "\n",
        "class Mansion(House):\n",
        "    def __init__(self, address, rooms):\n",
        "        super().__init__(address)\n",
        "        self.rooms = rooms\n",
        "\n",
        "m = Mansion(\"Main Street\", 10)\n",
        "print(m.address, m.rooms)\n"
      ],
      "metadata": {
        "colab": {
          "base_uri": "https://localhost:8080/"
        },
        "id": "nDgDZam6NFc4",
        "outputId": "ec0eb5f1-031c-4661-9747-ffc8b1aaee05"
      },
      "execution_count": 20,
      "outputs": [
        {
          "output_type": "stream",
          "name": "stdout",
          "text": [
            "Main Street 10\n"
          ]
        }
      ]
    }
  ]
}